{
 "cells": [
  {
   "cell_type": "code",
   "execution_count": null,
   "id": "a3aa67e2",
   "metadata": {},
   "outputs": [],
   "source": [
    "#Git is a version control system which allows for collaboration between developers\n",
    "#We first create our repository on github and go on to our command line interface\n",
    "#change directory to the path of the file you are working on using cd command,to clear screen use cls command\n",
    "#initialize git using git init, to check the files of the path you are in use dir command\n",
    "#set up configuraton using commands git config --global user.name ismail osman and git config --global user.email osman_1997@hotmail.co.uk\n",
    "#now get the file ready to be added to the staging area use command git add filename or if its many files/changes use command git add .\n",
    "#save the changes to the file or modification using git commit -m \"change done\"\n",
    "#check branch you are on using git branch command, change from master branch to main branch using git branch -M main command\n",
    "#we need to push on to the correct repository, use command git remote add link\n",
    "#then we can push from the origin to the main branch using git push -u origin main\n",
    "#along the way we can check the status using git status\n"
   ]
  },
  {
   "cell_type": "code",
   "execution_count": null,
   "id": "0d41c242",
   "metadata": {},
   "outputs": [],
   "source": [
    "#Staging and snapshot:\n",
    "\n",
    "#When using git add we are getting our file/modifications ready for staging, to unstage a file we use the command git reset \"file name\"\n",
    "#then use git status it will show it as an untracked file\n",
    "#to check for the differences in our code we can use the command git diff --staged, if we do this after git add we will see the difference but after commiting and pushing nothing will come up when this is run, this shows everything was pushed to the staging area"
   ]
  },
  {
   "cell_type": "code",
   "execution_count": null,
   "id": "c983ef03",
   "metadata": {},
   "outputs": [],
   "source": [
    "#Git branching:\n",
    "\n",
    "#to check what branch you are on use git branch command, to create the new branch use command git branch \"new branch\"\n",
    "#we would want to create different branches so we can work collabaratively, each branch is like a copy of the project, this way we dont mess up the project\n",
    "#to switch between branch use git checkout \"branchname\"\n",
    "#whilst on this new branch we can add and commit, but before pushing we switch to the main using git checkout main\n",
    "#whilst on main branch we do git merge newbranchname\n",
    "#then we can push to the repository\n",
    "#to check commit history use git log and to check last commit for instance use git log -p -1"
   ]
  }
 ],
 "metadata": {
  "kernelspec": {
   "display_name": "Python 3",
   "language": "python",
   "name": "python3"
  },
  "language_info": {
   "name": "python",
   "version": "3.10.0"
  }
 },
 "nbformat": 4,
 "nbformat_minor": 5
}
